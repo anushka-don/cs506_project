{
 "cells": [
  {
   "metadata": {
    "ExecuteTime": {
     "end_time": "2025-10-23T17:56:45.575170Z",
     "start_time": "2025-10-23T17:56:45.572426Z"
    }
   },
   "cell_type": "code",
   "source": [
    "import os, math\n",
    "import numpy as np, pandas as pd\n",
    "import matplotlib.pyplot as plt, seaborn as sns\n",
    "from scipy.spatial.distance import pdist, squareform\n",
    "from scipy.stats import mannwhitneyu\n",
    "from statsmodels.stats.multitest import multipletests\n",
    "from sklearn.decomposition import PCA\n",
    "\n",
    "np.random.seed(2025)\n"
   ],
   "id": "d4b3ea863a14478",
   "outputs": [],
   "execution_count": 70
  },
  {
   "metadata": {
    "ExecuteTime": {
     "end_time": "2025-10-23T17:56:45.613157Z",
     "start_time": "2025-10-23T17:56:45.610553Z"
    }
   },
   "cell_type": "code",
   "source": [
    "# Load data\n",
    "data_dir = \"data\"\n",
    "ab_path = os.path.join(data_dir, \"MetaCardis2020_relative_abundance.csv\")\n",
    "meta_path = os.path.join(data_dir, \"MetaCardis2020_sample_metadata.csv\")\n",
    "taxa_meta_path = os.path.join(data_dir, \"MetaCardis2020_taxa_metadata.csv\")\n",
    "\n",
    "RESULTS = os.path.join(data_dir, \"results_EDA\")\n",
    "FIGS = os.path.join(RESULTS, \"figures\")\n",
    "TABLES = os.path.join(RESULTS, \"tables\")\n",
    "os.makedirs(FIGS, exist_ok=True); os.makedirs(TABLES, exist_ok=True)\n"
   ],
   "id": "b8a57cbfc6dd8141",
   "outputs": [],
   "execution_count": 71
  },
  {
   "metadata": {
    "ExecuteTime": {
     "end_time": "2025-10-23T17:56:45.719459Z",
     "start_time": "2025-10-23T17:56:45.639555Z"
    }
   },
   "cell_type": "code",
   "source": [
    "ab_raw = pd.read_csv(ab_path, index_col=0)\n",
    "meta = pd.read_csv(meta_path, index_col=0)\n",
    "taxa_meta = pd.read_csv(taxa_meta_path, index_col=0)\n",
    "\n",
    "print(\"ab_raw.shape (rows x cols):\", ab_raw.shape)\n",
    "print(\"meta.shape:\", meta.shape)\n",
    "print(\"taxa_meta.shape:\", taxa_meta.shape)\n",
    "display(ab_raw.head().T)   \n",
    "display(meta.head())\n",
    "display(taxa_meta.head())"
   ],
   "id": "e773c84a36ef9690",
   "outputs": [
    {
     "name": "stdout",
     "output_type": "stream",
     "text": [
      "ab_raw.shape (rows x cols): (697, 1831)\n",
      "meta.shape: (1831, 25)\n",
      "taxa_meta.shape: (697, 7)\n"
     ]
    },
    {
     "data": {
      "text/plain": [
       "taxa          Bacteroides uniformis  Phocaeicola dorei  Alistipes finegoldii  \\\n",
       "M0x10MCx1134               18.68909           10.88477               8.14016   \n",
       "M0x10MCx1135                0.47634            0.12509               0.11658   \n",
       "M0x10MCx1138                1.69175           19.99088               0.31639   \n",
       "M0x10MCx1140                8.54740            8.29615               0.00000   \n",
       "M0x10MCx1143               11.01829           28.54958               0.00000   \n",
       "...                             ...                ...                   ...   \n",
       "M0x30MCx3384                1.09316            0.14840               0.00000   \n",
       "M0x30MCx3412               38.16991            4.62311               0.17234   \n",
       "M0x30MCx3414                0.90933            1.27721               0.73518   \n",
       "M0x30MCx3422                7.93352            1.23356               0.91919   \n",
       "M0x30MCx3423               12.68031            0.08613               0.49292   \n",
       "\n",
       "taxa          Phocaeicola vulgatus  Eubacterium sp. CAG:180  \n",
       "M0x10MCx1134               7.69579                  5.24825  \n",
       "M0x10MCx1135               0.06780                  5.09389  \n",
       "M0x10MCx1138               1.37651                  0.00000  \n",
       "M0x10MCx1140               2.42549                  0.00000  \n",
       "M0x10MCx1143               0.00000                  0.00000  \n",
       "...                            ...                      ...  \n",
       "M0x30MCx3384               1.80244                  2.05756  \n",
       "M0x30MCx3412               5.02784                  0.00000  \n",
       "M0x30MCx3414               1.56852                  3.94000  \n",
       "M0x30MCx3422               3.94948                  0.00000  \n",
       "M0x30MCx3423              10.51695                  0.00000  \n",
       "\n",
       "[1831 rows x 5 columns]"
      ],
      "text/html": [
       "<div>\n",
       "<style scoped>\n",
       "    .dataframe tbody tr th:only-of-type {\n",
       "        vertical-align: middle;\n",
       "    }\n",
       "\n",
       "    .dataframe tbody tr th {\n",
       "        vertical-align: top;\n",
       "    }\n",
       "\n",
       "    .dataframe thead th {\n",
       "        text-align: right;\n",
       "    }\n",
       "</style>\n",
       "<table border=\"1\" class=\"dataframe\">\n",
       "  <thead>\n",
       "    <tr style=\"text-align: right;\">\n",
       "      <th>taxa</th>\n",
       "      <th>Bacteroides uniformis</th>\n",
       "      <th>Phocaeicola dorei</th>\n",
       "      <th>Alistipes finegoldii</th>\n",
       "      <th>Phocaeicola vulgatus</th>\n",
       "      <th>Eubacterium sp. CAG:180</th>\n",
       "    </tr>\n",
       "  </thead>\n",
       "  <tbody>\n",
       "    <tr>\n",
       "      <th>M0x10MCx1134</th>\n",
       "      <td>18.68909</td>\n",
       "      <td>10.88477</td>\n",
       "      <td>8.14016</td>\n",
       "      <td>7.69579</td>\n",
       "      <td>5.24825</td>\n",
       "    </tr>\n",
       "    <tr>\n",
       "      <th>M0x10MCx1135</th>\n",
       "      <td>0.47634</td>\n",
       "      <td>0.12509</td>\n",
       "      <td>0.11658</td>\n",
       "      <td>0.06780</td>\n",
       "      <td>5.09389</td>\n",
       "    </tr>\n",
       "    <tr>\n",
       "      <th>M0x10MCx1138</th>\n",
       "      <td>1.69175</td>\n",
       "      <td>19.99088</td>\n",
       "      <td>0.31639</td>\n",
       "      <td>1.37651</td>\n",
       "      <td>0.00000</td>\n",
       "    </tr>\n",
       "    <tr>\n",
       "      <th>M0x10MCx1140</th>\n",
       "      <td>8.54740</td>\n",
       "      <td>8.29615</td>\n",
       "      <td>0.00000</td>\n",
       "      <td>2.42549</td>\n",
       "      <td>0.00000</td>\n",
       "    </tr>\n",
       "    <tr>\n",
       "      <th>M0x10MCx1143</th>\n",
       "      <td>11.01829</td>\n",
       "      <td>28.54958</td>\n",
       "      <td>0.00000</td>\n",
       "      <td>0.00000</td>\n",
       "      <td>0.00000</td>\n",
       "    </tr>\n",
       "    <tr>\n",
       "      <th>...</th>\n",
       "      <td>...</td>\n",
       "      <td>...</td>\n",
       "      <td>...</td>\n",
       "      <td>...</td>\n",
       "      <td>...</td>\n",
       "    </tr>\n",
       "    <tr>\n",
       "      <th>M0x30MCx3384</th>\n",
       "      <td>1.09316</td>\n",
       "      <td>0.14840</td>\n",
       "      <td>0.00000</td>\n",
       "      <td>1.80244</td>\n",
       "      <td>2.05756</td>\n",
       "    </tr>\n",
       "    <tr>\n",
       "      <th>M0x30MCx3412</th>\n",
       "      <td>38.16991</td>\n",
       "      <td>4.62311</td>\n",
       "      <td>0.17234</td>\n",
       "      <td>5.02784</td>\n",
       "      <td>0.00000</td>\n",
       "    </tr>\n",
       "    <tr>\n",
       "      <th>M0x30MCx3414</th>\n",
       "      <td>0.90933</td>\n",
       "      <td>1.27721</td>\n",
       "      <td>0.73518</td>\n",
       "      <td>1.56852</td>\n",
       "      <td>3.94000</td>\n",
       "    </tr>\n",
       "    <tr>\n",
       "      <th>M0x30MCx3422</th>\n",
       "      <td>7.93352</td>\n",
       "      <td>1.23356</td>\n",
       "      <td>0.91919</td>\n",
       "      <td>3.94948</td>\n",
       "      <td>0.00000</td>\n",
       "    </tr>\n",
       "    <tr>\n",
       "      <th>M0x30MCx3423</th>\n",
       "      <td>12.68031</td>\n",
       "      <td>0.08613</td>\n",
       "      <td>0.49292</td>\n",
       "      <td>10.51695</td>\n",
       "      <td>0.00000</td>\n",
       "    </tr>\n",
       "  </tbody>\n",
       "</table>\n",
       "<p>1831 rows × 5 columns</p>\n",
       "</div>"
      ]
     },
     "metadata": {},
     "output_type": "display_data"
    },
    {
     "data": {
      "text/plain": [
       "                     study_name    subject_id body_site  \\\n",
       "M0x10MCx1134  MetaCardis_2020_a  M0x10MCx1134     stool   \n",
       "M0x10MCx1135  MetaCardis_2020_a  M0x10MCx1135     stool   \n",
       "M0x10MCx1138  MetaCardis_2020_a  M0x10MCx1138     stool   \n",
       "M0x10MCx1140  MetaCardis_2020_a  M0x10MCx1140     stool   \n",
       "M0x10MCx1143  MetaCardis_2020_a  M0x10MCx1143     stool   \n",
       "\n",
       "             antibiotics_current_use study_condition disease age_category  \\\n",
       "M0x10MCx1134                      no             IGT  IGT;MS        adult   \n",
       "M0x10MCx1135                      no             T2D     T2D        adult   \n",
       "M0x10MCx1138                     yes             T2D     T2D        adult   \n",
       "M0x10MCx1140                     NaN         control      MS        adult   \n",
       "M0x10MCx1143                     yes             T2D     T2D       senior   \n",
       "\n",
       "              gender country non_westernized  ...        BMI  \\\n",
       "M0x10MCx1134  female     FRA              no  ...  44.365888   \n",
       "M0x10MCx1135    male     FRA              no  ...  27.719670   \n",
       "M0x10MCx1138    male     FRA              no  ...  38.221055   \n",
       "M0x10MCx1140  female     FRA              no  ...  36.283006   \n",
       "M0x10MCx1143  female     FRA              no  ...  39.817729   \n",
       "\n",
       "                                                     treatment  location  \\\n",
       "M0x10MCx1134                     antihta;thiazidique;at2_inhib     Paris   \n",
       "M0x10MCx1135               antidiab;su;metformin;dppiv;insulin     Paris   \n",
       "M0x10MCx1138                             antidiab;su;metformin     Paris   \n",
       "M0x10MCx1140             antihta;thiazidique;at2_inhib;ca2_cbl     Paris   \n",
       "M0x10MCx1143  antihta;antidiab;thiazidique;at2_inhib;metformin     Paris   \n",
       "\n",
       "             disease_subtype triglycerides  hba1c smoke bristol_score hsCRP  \\\n",
       "M0x10MCx1134             NaN     97.940706    6.0    no           1.0   1.3   \n",
       "M0x10MCx1135             NaN           NaN    NaN    no           NaN   NaN   \n",
       "M0x10MCx1138             NaN           NaN    NaN   1.0           NaN   NaN   \n",
       "M0x10MCx1140             NaN           NaN    NaN    no           NaN   NaN   \n",
       "M0x10MCx1143             NaN           NaN    NaN    no           NaN   NaN   \n",
       "\n",
       "                     LDL  \n",
       "M0x10MCx1134  140.673726  \n",
       "M0x10MCx1135         NaN  \n",
       "M0x10MCx1138         NaN  \n",
       "M0x10MCx1140         NaN  \n",
       "M0x10MCx1143         NaN  \n",
       "\n",
       "[5 rows x 25 columns]"
      ],
      "text/html": [
       "<div>\n",
       "<style scoped>\n",
       "    .dataframe tbody tr th:only-of-type {\n",
       "        vertical-align: middle;\n",
       "    }\n",
       "\n",
       "    .dataframe tbody tr th {\n",
       "        vertical-align: top;\n",
       "    }\n",
       "\n",
       "    .dataframe thead th {\n",
       "        text-align: right;\n",
       "    }\n",
       "</style>\n",
       "<table border=\"1\" class=\"dataframe\">\n",
       "  <thead>\n",
       "    <tr style=\"text-align: right;\">\n",
       "      <th></th>\n",
       "      <th>study_name</th>\n",
       "      <th>subject_id</th>\n",
       "      <th>body_site</th>\n",
       "      <th>antibiotics_current_use</th>\n",
       "      <th>study_condition</th>\n",
       "      <th>disease</th>\n",
       "      <th>age_category</th>\n",
       "      <th>gender</th>\n",
       "      <th>country</th>\n",
       "      <th>non_westernized</th>\n",
       "      <th>...</th>\n",
       "      <th>BMI</th>\n",
       "      <th>treatment</th>\n",
       "      <th>location</th>\n",
       "      <th>disease_subtype</th>\n",
       "      <th>triglycerides</th>\n",
       "      <th>hba1c</th>\n",
       "      <th>smoke</th>\n",
       "      <th>bristol_score</th>\n",
       "      <th>hsCRP</th>\n",
       "      <th>LDL</th>\n",
       "    </tr>\n",
       "  </thead>\n",
       "  <tbody>\n",
       "    <tr>\n",
       "      <th>M0x10MCx1134</th>\n",
       "      <td>MetaCardis_2020_a</td>\n",
       "      <td>M0x10MCx1134</td>\n",
       "      <td>stool</td>\n",
       "      <td>no</td>\n",
       "      <td>IGT</td>\n",
       "      <td>IGT;MS</td>\n",
       "      <td>adult</td>\n",
       "      <td>female</td>\n",
       "      <td>FRA</td>\n",
       "      <td>no</td>\n",
       "      <td>...</td>\n",
       "      <td>44.365888</td>\n",
       "      <td>antihta;thiazidique;at2_inhib</td>\n",
       "      <td>Paris</td>\n",
       "      <td>NaN</td>\n",
       "      <td>97.940706</td>\n",
       "      <td>6.0</td>\n",
       "      <td>no</td>\n",
       "      <td>1.0</td>\n",
       "      <td>1.3</td>\n",
       "      <td>140.673726</td>\n",
       "    </tr>\n",
       "    <tr>\n",
       "      <th>M0x10MCx1135</th>\n",
       "      <td>MetaCardis_2020_a</td>\n",
       "      <td>M0x10MCx1135</td>\n",
       "      <td>stool</td>\n",
       "      <td>no</td>\n",
       "      <td>T2D</td>\n",
       "      <td>T2D</td>\n",
       "      <td>adult</td>\n",
       "      <td>male</td>\n",
       "      <td>FRA</td>\n",
       "      <td>no</td>\n",
       "      <td>...</td>\n",
       "      <td>27.719670</td>\n",
       "      <td>antidiab;su;metformin;dppiv;insulin</td>\n",
       "      <td>Paris</td>\n",
       "      <td>NaN</td>\n",
       "      <td>NaN</td>\n",
       "      <td>NaN</td>\n",
       "      <td>no</td>\n",
       "      <td>NaN</td>\n",
       "      <td>NaN</td>\n",
       "      <td>NaN</td>\n",
       "    </tr>\n",
       "    <tr>\n",
       "      <th>M0x10MCx1138</th>\n",
       "      <td>MetaCardis_2020_a</td>\n",
       "      <td>M0x10MCx1138</td>\n",
       "      <td>stool</td>\n",
       "      <td>yes</td>\n",
       "      <td>T2D</td>\n",
       "      <td>T2D</td>\n",
       "      <td>adult</td>\n",
       "      <td>male</td>\n",
       "      <td>FRA</td>\n",
       "      <td>no</td>\n",
       "      <td>...</td>\n",
       "      <td>38.221055</td>\n",
       "      <td>antidiab;su;metformin</td>\n",
       "      <td>Paris</td>\n",
       "      <td>NaN</td>\n",
       "      <td>NaN</td>\n",
       "      <td>NaN</td>\n",
       "      <td>1.0</td>\n",
       "      <td>NaN</td>\n",
       "      <td>NaN</td>\n",
       "      <td>NaN</td>\n",
       "    </tr>\n",
       "    <tr>\n",
       "      <th>M0x10MCx1140</th>\n",
       "      <td>MetaCardis_2020_a</td>\n",
       "      <td>M0x10MCx1140</td>\n",
       "      <td>stool</td>\n",
       "      <td>NaN</td>\n",
       "      <td>control</td>\n",
       "      <td>MS</td>\n",
       "      <td>adult</td>\n",
       "      <td>female</td>\n",
       "      <td>FRA</td>\n",
       "      <td>no</td>\n",
       "      <td>...</td>\n",
       "      <td>36.283006</td>\n",
       "      <td>antihta;thiazidique;at2_inhib;ca2_cbl</td>\n",
       "      <td>Paris</td>\n",
       "      <td>NaN</td>\n",
       "      <td>NaN</td>\n",
       "      <td>NaN</td>\n",
       "      <td>no</td>\n",
       "      <td>NaN</td>\n",
       "      <td>NaN</td>\n",
       "      <td>NaN</td>\n",
       "    </tr>\n",
       "    <tr>\n",
       "      <th>M0x10MCx1143</th>\n",
       "      <td>MetaCardis_2020_a</td>\n",
       "      <td>M0x10MCx1143</td>\n",
       "      <td>stool</td>\n",
       "      <td>yes</td>\n",
       "      <td>T2D</td>\n",
       "      <td>T2D</td>\n",
       "      <td>senior</td>\n",
       "      <td>female</td>\n",
       "      <td>FRA</td>\n",
       "      <td>no</td>\n",
       "      <td>...</td>\n",
       "      <td>39.817729</td>\n",
       "      <td>antihta;antidiab;thiazidique;at2_inhib;metformin</td>\n",
       "      <td>Paris</td>\n",
       "      <td>NaN</td>\n",
       "      <td>NaN</td>\n",
       "      <td>NaN</td>\n",
       "      <td>no</td>\n",
       "      <td>NaN</td>\n",
       "      <td>NaN</td>\n",
       "      <td>NaN</td>\n",
       "    </tr>\n",
       "  </tbody>\n",
       "</table>\n",
       "<p>5 rows × 25 columns</p>\n",
       "</div>"
      ]
     },
     "metadata": {},
     "output_type": "display_data"
    },
    {
     "data": {
      "text/plain": [
       "                        superkingdom        phylum        class  \\\n",
       "Bacteroides uniformis       Bacteria  Bacteroidota  Bacteroidia   \n",
       "Phocaeicola dorei           Bacteria  Bacteroidota  Bacteroidia   \n",
       "Alistipes finegoldii        Bacteria  Bacteroidota  Bacteroidia   \n",
       "Phocaeicola vulgatus        Bacteria  Bacteroidota  Bacteroidia   \n",
       "Eubacterium sp. CAG:180     Bacteria    Firmicutes   Clostridia   \n",
       "\n",
       "                                 order          family        genus  \\\n",
       "Bacteroides uniformis    Bacteroidales  Bacteroidaceae  Bacteroides   \n",
       "Phocaeicola dorei        Bacteroidales  Bacteroidaceae  Phocaeicola   \n",
       "Alistipes finegoldii     Bacteroidales   Rikenellaceae    Alistipes   \n",
       "Phocaeicola vulgatus     Bacteroidales  Bacteroidaceae  Phocaeicola   \n",
       "Eubacterium sp. CAG:180  Eubacteriales  Eubacteriaceae  Eubacterium   \n",
       "\n",
       "                                         species  \n",
       "Bacteroides uniformis      Bacteroides uniformis  \n",
       "Phocaeicola dorei              Phocaeicola dorei  \n",
       "Alistipes finegoldii        Alistipes finegoldii  \n",
       "Phocaeicola vulgatus        Phocaeicola vulgatus  \n",
       "Eubacterium sp. CAG:180  Eubacterium sp. CAG:180  "
      ],
      "text/html": [
       "<div>\n",
       "<style scoped>\n",
       "    .dataframe tbody tr th:only-of-type {\n",
       "        vertical-align: middle;\n",
       "    }\n",
       "\n",
       "    .dataframe tbody tr th {\n",
       "        vertical-align: top;\n",
       "    }\n",
       "\n",
       "    .dataframe thead th {\n",
       "        text-align: right;\n",
       "    }\n",
       "</style>\n",
       "<table border=\"1\" class=\"dataframe\">\n",
       "  <thead>\n",
       "    <tr style=\"text-align: right;\">\n",
       "      <th></th>\n",
       "      <th>superkingdom</th>\n",
       "      <th>phylum</th>\n",
       "      <th>class</th>\n",
       "      <th>order</th>\n",
       "      <th>family</th>\n",
       "      <th>genus</th>\n",
       "      <th>species</th>\n",
       "    </tr>\n",
       "  </thead>\n",
       "  <tbody>\n",
       "    <tr>\n",
       "      <th>Bacteroides uniformis</th>\n",
       "      <td>Bacteria</td>\n",
       "      <td>Bacteroidota</td>\n",
       "      <td>Bacteroidia</td>\n",
       "      <td>Bacteroidales</td>\n",
       "      <td>Bacteroidaceae</td>\n",
       "      <td>Bacteroides</td>\n",
       "      <td>Bacteroides uniformis</td>\n",
       "    </tr>\n",
       "    <tr>\n",
       "      <th>Phocaeicola dorei</th>\n",
       "      <td>Bacteria</td>\n",
       "      <td>Bacteroidota</td>\n",
       "      <td>Bacteroidia</td>\n",
       "      <td>Bacteroidales</td>\n",
       "      <td>Bacteroidaceae</td>\n",
       "      <td>Phocaeicola</td>\n",
       "      <td>Phocaeicola dorei</td>\n",
       "    </tr>\n",
       "    <tr>\n",
       "      <th>Alistipes finegoldii</th>\n",
       "      <td>Bacteria</td>\n",
       "      <td>Bacteroidota</td>\n",
       "      <td>Bacteroidia</td>\n",
       "      <td>Bacteroidales</td>\n",
       "      <td>Rikenellaceae</td>\n",
       "      <td>Alistipes</td>\n",
       "      <td>Alistipes finegoldii</td>\n",
       "    </tr>\n",
       "    <tr>\n",
       "      <th>Phocaeicola vulgatus</th>\n",
       "      <td>Bacteria</td>\n",
       "      <td>Bacteroidota</td>\n",
       "      <td>Bacteroidia</td>\n",
       "      <td>Bacteroidales</td>\n",
       "      <td>Bacteroidaceae</td>\n",
       "      <td>Phocaeicola</td>\n",
       "      <td>Phocaeicola vulgatus</td>\n",
       "    </tr>\n",
       "    <tr>\n",
       "      <th>Eubacterium sp. CAG:180</th>\n",
       "      <td>Bacteria</td>\n",
       "      <td>Firmicutes</td>\n",
       "      <td>Clostridia</td>\n",
       "      <td>Eubacteriales</td>\n",
       "      <td>Eubacteriaceae</td>\n",
       "      <td>Eubacterium</td>\n",
       "      <td>Eubacterium sp. CAG:180</td>\n",
       "    </tr>\n",
       "  </tbody>\n",
       "</table>\n",
       "</div>"
      ]
     },
     "metadata": {},
     "output_type": "display_data"
    }
   ],
   "execution_count": 72
  },
  {
   "cell_type": "code",
   "id": "fbc98636-f8c9-4626-b71f-dc51faf29440",
   "metadata": {
    "ExecuteTime": {
     "end_time": "2025-10-23T17:56:45.790572Z",
     "start_time": "2025-10-23T17:56:45.784888Z"
    }
   },
   "source": [
    "#transpose abundance and check alignment\n",
    "ab = ab_raw.T.copy()   # now rows = samples, cols = taxa\n",
    "print(\"ab (samples x taxa) shape:\", ab.shape)\n",
    "\n",
    "print(\"First 5 sample IDs in abundance:\", list(ab.index[:5]))\n",
    "print(\"First 5 sample IDs in metadata:\", list(meta.index[:5]))\n",
    "\n",
    "# how many sample IDs overlap between abundance and metadata?\n",
    "common = ab.index.intersection(meta.index)\n",
    "print(f\"Common sample IDs: {len(common)} / {ab.shape[0]} (abundance) and {meta.shape[0]} (metadata)\")"
   ],
   "outputs": [
    {
     "name": "stdout",
     "output_type": "stream",
     "text": [
      "ab (samples x taxa) shape: (1831, 697)\n",
      "First 5 sample IDs in abundance: ['M0x10MCx1134', 'M0x10MCx1135', 'M0x10MCx1138', 'M0x10MCx1140', 'M0x10MCx1143']\n",
      "First 5 sample IDs in metadata: ['M0x10MCx1134', 'M0x10MCx1135', 'M0x10MCx1138', 'M0x10MCx1140', 'M0x10MCx1143']\n",
      "Common sample IDs: 1831 / 1831 (abundance) and 1831 (metadata)\n"
     ]
    }
   ],
   "execution_count": 73
  },
  {
   "cell_type": "code",
   "id": "d3fbc34d-935f-4e62-b1c7-6fdddf8112af",
   "metadata": {
    "ExecuteTime": {
     "end_time": "2025-10-23T17:56:45.857525Z",
     "start_time": "2025-10-23T17:56:45.854307Z"
    }
   },
   "source": [
    "# show up to 5 example mismatches (if any)\n",
    "ab_only = list(sorted(set(ab.index) - set(meta.index)))[:5]\n",
    "meta_only = list(sorted(set(meta.index) - set(ab.index)))[:5]\n",
    "print(\"Example sample IDs present in abundance but NOT in metadata:\", ab_only)\n",
    "print(\"Example sample IDs present in metadata but NOT in abundance:\", meta_only)"
   ],
   "outputs": [
    {
     "name": "stdout",
     "output_type": "stream",
     "text": [
      "Example sample IDs present in abundance but NOT in metadata: []\n",
      "Example sample IDs present in metadata but NOT in abundance: []\n"
     ]
    }
   ],
   "execution_count": 74
  },
  {
   "cell_type": "code",
   "id": "15e729fb-693b-4ccc-b551-48e7761d6e64",
   "metadata": {
    "ExecuteTime": {
     "end_time": "2025-10-23T17:56:45.905128Z",
     "start_time": "2025-10-23T17:56:45.899986Z"
    }
   },
   "source": [
    "#Check duplicates and missingness\n",
    "\n",
    "# Check for duplicate sample IDs\n",
    "dup_ab = ab.index[ab.index.duplicated()]\n",
    "dup_meta = meta.index[meta.index.duplicated()]\n",
    "print(\"Duplicate samples in abundance:\", len(dup_ab))\n",
    "print(\"Duplicate samples in metadata:\", len(dup_meta))\n",
    "\n",
    "# Check for missing values in metadata\n",
    "missing_counts = meta.isna().sum().sort_values(ascending=False)\n",
    "print(\"\\nTop 10 metadata columns with missing values:\")\n",
    "print(missing_counts.head(10))"
   ],
   "outputs": [
    {
     "name": "stdout",
     "output_type": "stream",
     "text": [
      "Duplicate samples in abundance: 0\n",
      "Duplicate samples in metadata: 0\n",
      "\n",
      "Top 10 metadata columns with missing values:\n",
      "disease_subtype            1822\n",
      "hsCRP                      1002\n",
      "bristol_score               997\n",
      "hba1c                       992\n",
      "LDL                         990\n",
      "triglycerides               987\n",
      "smoke                       528\n",
      "BMI                         521\n",
      "gender                      514\n",
      "antibiotics_current_use     104\n",
      "dtype: int64\n"
     ]
    }
   ],
   "execution_count": 75
  },
  {
   "cell_type": "code",
   "id": "1e8c6621-76f6-4501-b670-79f033144a09",
   "metadata": {
    "ExecuteTime": {
     "end_time": "2025-10-23T17:56:45.935991Z",
     "start_time": "2025-10-23T17:56:45.933166Z"
    }
   },
   "source": [
    "# Look at unique values in the disease/study_condition columns\n",
    "print(\"Unique values in 'study_condition':\", meta['study_condition'].unique()[:10])\n",
    "print(\"Unique values in 'disease':\", meta['disease'].unique()[:10])"
   ],
   "outputs": [
    {
     "name": "stdout",
     "output_type": "stream",
     "text": [
      "Unique values in 'study_condition': ['IGT' 'T2D' 'control' 'CAD' 'HF']\n",
      "Unique values in 'disease': ['IGT;MS' 'T2D' 'MS' 'CAD' 'CAD;T2D' 'HF;T2D' 'healthy' 'IGT' 'MA'\n",
      " 'HF;CAD']\n"
     ]
    }
   ],
   "execution_count": 76
  },
  {
   "cell_type": "code",
   "id": "ba3327ae-0d19-4a86-8ace-4b725ca6a277",
   "metadata": {
    "ExecuteTime": {
     "end_time": "2025-10-23T17:56:45.980280Z",
     "start_time": "2025-10-23T17:56:45.965577Z"
    }
   },
   "source": [
    "# create unified Healthy vs Disease label\n",
    "def map_health(row):\n",
    "    cond = str(row['study_condition']).lower()\n",
    "    dis = str(row['disease']).lower()\n",
    "    if ('control' in cond) or ('healthy' in dis):\n",
    "        return 'Healthy'\n",
    "    else:\n",
    "        return 'Disease'\n",
    "\n",
    "meta['health_status'] = meta.apply(map_health, axis=1)\n",
    "\n",
    "# Check how many samples in each class\n",
    "print(\"Health status counts:\")\n",
    "print(meta['health_status'].value_counts(dropna=False))\n",
    "\n",
    "# Drop samples with no label (if any)\n",
    "meta = meta.dropna(subset=['health_status'])\n",
    "ab = ab.loc[meta.index]\n",
    "print(\"After removing unlabeled samples -> samples:\", ab.shape[0])"
   ],
   "outputs": [
    {
     "name": "stdout",
     "output_type": "stream",
     "text": [
      "Health status counts:\n",
      "health_status\n",
      "Disease    1189\n",
      "Healthy     642\n",
      "Name: count, dtype: int64\n",
      "After removing unlabeled samples -> samples: 1831\n"
     ]
    }
   ],
   "execution_count": 77
  },
  {
   "cell_type": "code",
   "id": "f8e82015-8359-44a4-bd2b-c5d7ff1520a4",
   "metadata": {
    "ExecuteTime": {
     "end_time": "2025-10-23T17:56:46.018165Z",
     "start_time": "2025-10-23T17:56:46.010582Z"
    }
   },
   "source": [
    "# Clean antibiotics and treatment columns\n",
    "\n",
    "if 'antibiotics_current_use' in meta.columns:\n",
    "    meta['antibiotics_current_use'] = (\n",
    "        meta['antibiotics_current_use']\n",
    "        .astype(str)\n",
    "        .str.lower()\n",
    "        .str.strip()\n",
    "        .replace({'nan': np.nan})\n",
    "    )\n",
    "\n",
    "    # Standardize values\n",
    "    def clean_antibiotic(x):\n",
    "        if pd.isna(x):\n",
    "            return 'unknown'\n",
    "        elif x.startswith('y'):\n",
    "            return 'yes'\n",
    "        elif x.startswith('n'):\n",
    "            return 'no'\n",
    "        else:\n",
    "            return 'unknown'\n",
    "\n",
    "    meta['antibiotic_use'] = meta['antibiotics_current_use'].apply(clean_antibiotic)\n",
    "else:\n",
    "    # If the column doesn't exist, create an empty one\n",
    "    meta['antibiotic_use'] = 'unknown'\n",
    "\n",
    "print(\"Antibiotic use value counts:\")\n",
    "print(meta['antibiotic_use'].value_counts(dropna=False))\n",
    "\n",
    "# Clean treatment information (string normalization)\n",
    "if 'treatment' in meta.columns:\n",
    "    meta['treatment'] = (\n",
    "        meta['treatment']\n",
    "        .astype(str)\n",
    "        .str.lower()\n",
    "        .str.strip()\n",
    "        .replace({'nan': np.nan})\n",
    "    )\n",
    "else:\n",
    "    meta['treatment'] = np.nan\n",
    "\n",
    "\n",
    "print(\"\\nMost common treatments:\")\n",
    "print(meta['treatment'].value_counts().head(10))\n"
   ],
   "outputs": [
    {
     "name": "stdout",
     "output_type": "stream",
     "text": [
      "Antibiotic use value counts:\n",
      "antibiotic_use\n",
      "no         944\n",
      "yes        783\n",
      "unknown    104\n",
      "Name: count, dtype: int64\n",
      "\n",
      "Most common treatments:\n",
      "treatment\n",
      "no                                                       539\n",
      "ppi                                                       32\n",
      "antidiab;metformin                                        25\n",
      "antihta;ace_inhib                                         24\n",
      "antilipid;antihta;beta_blockers;statin;antithombo;asa     24\n",
      "antihta;beta_blockers                                     21\n",
      "antilipid;statin                                          20\n",
      "antidiab;metformin;dppiv                                  18\n",
      "antihta;at2_inhib                                         17\n",
      "antilipid;statin;asa                                      15\n",
      "Name: count, dtype: int64\n"
     ]
    }
   ],
   "execution_count": 78
  },
  {
   "cell_type": "code",
   "id": "ae31b726-07b0-43f3-a11a-01a57e38ca91",
   "metadata": {
    "ExecuteTime": {
     "end_time": "2025-10-23T17:56:46.059250Z",
     "start_time": "2025-10-23T17:56:46.054889Z"
    }
   },
   "source": [
    "import math\n",
    "\n",
    "# How many samples in the dataset\n",
    "n_samples = ab.shape[0]\n",
    "\n",
    "# Count in how many samples each taxon appears (>0)\n",
    "prevalence = (ab > 0).sum(axis=0)\n",
    "\n",
    "n_samples\n",
    "prevalence"
   ],
   "outputs": [
    {
     "data": {
      "text/plain": [
       "taxa\n",
       "Bacteroides uniformis             1756\n",
       "Phocaeicola dorei                 1297\n",
       "Alistipes finegoldii              1489\n",
       "Phocaeicola vulgatus              1640\n",
       "Eubacterium sp. CAG:180            688\n",
       "                                  ... \n",
       "Mageeibacillus indolicus             1\n",
       "Dialister micraerophilus             1\n",
       "Tissierellia bacterium KA00581       1\n",
       "Anaerococcus lactolyticus            1\n",
       "Actinomyces naeslundii               1\n",
       "Length: 697, dtype: int64"
      ]
     },
     "execution_count": 79,
     "metadata": {},
     "output_type": "execute_result"
    }
   ],
   "execution_count": 79
  },
  {
   "cell_type": "code",
   "id": "fa62b1bf-8c6d-4d41-a64a-01e6ca930d84",
   "metadata": {
    "ExecuteTime": {
     "end_time": "2025-10-23T17:56:46.121601Z",
     "start_time": "2025-10-23T17:56:46.115308Z"
    }
   },
   "source": [
    "# Filter rare taxa (low prevalence)\n",
    "\n",
    "# Choose a threshold (e.g. ≥5 % of samples)\n",
    "min_samples = math.ceil(0.05 * n_samples)\n",
    "keep_taxa = prevalence[prevalence >= min_samples].index\n",
    "print(f\"Keeping {len(keep_taxa)} taxa out of {ab.shape[1]} (≥5% prevalence)\")\n",
    "\n",
    "# Filter the abundance table\n",
    "ab_filt = ab[keep_taxa].copy()\n",
    "print(\"Filtered abundance shape:\", ab_filt.shape)\n",
    "\n",
    "# also make a 1% version to test sensitivity later\n",
    "min_samples_1pct = math.ceil(0.01 * n_samples)\n",
    "keep_taxa_1pct = prevalence[prevalence >= min_samples_1pct].index\n",
    "ab_filt_1pct = ab[keep_taxa_1pct].copy()\n",
    "print(\"1% version shape:\", ab_filt_1pct.shape)\n"
   ],
   "outputs": [
    {
     "name": "stdout",
     "output_type": "stream",
     "text": [
      "Keeping 228 taxa out of 697 (≥5% prevalence)\n",
      "Filtered abundance shape: (1831, 228)\n",
      "1% version shape: (1831, 362)\n"
     ]
    }
   ],
   "execution_count": 80
  },
  {
   "cell_type": "code",
   "id": "c6c4801f-b8de-4ea4-bc91-c1b873a9293c",
   "metadata": {
    "ExecuteTime": {
     "end_time": "2025-10-23T17:56:46.364998Z",
     "start_time": "2025-10-23T17:56:46.181902Z"
    }
   },
   "source": [
    "# Normalize filtered table to relative abundances (sum = 1 per sample)\n",
    "\n",
    "# use 5 % filtered version for main analysis\n",
    "ab_rel = ab_filt.div(ab_filt.sum(axis=1), axis=0).fillna(0)\n",
    "\n",
    "# every sample should now sum ≈ 1\n",
    "sample_sums = ab_rel.sum(axis=1)\n",
    "print(\"Relative-abundance sample sums (min–max):\", sample_sums.min(), \"-\", sample_sums.max())\n",
    "\n",
    "# if any sample sums = 0 → drop it \n",
    "zero_sum = sample_sums[sample_sums == 0].index\n",
    "if len(zero_sum) > 0:\n",
    "    print(\"Dropping\", len(zero_sum), \"zero-sum samples\")\n",
    "    ab_rel = ab_rel.drop(index=zero_sum)\n",
    "    meta = meta.loc[ab_rel.index]\n",
    "\n",
    "print(\"Normalized abundance shape:\", ab_rel.shape)\n",
    "\n",
    "# Save normalized version\n",
    "ab_rel.to_csv(os.path.join(TABLES, \"abundance_filtered5pct_relative.csv\"))\n"
   ],
   "outputs": [
    {
     "name": "stdout",
     "output_type": "stream",
     "text": [
      "Relative-abundance sample sums (min–max): 0.9999999999999983 - 1.0000000000000013\n",
      "Normalized abundance shape: (1831, 228)\n"
     ]
    }
   ],
   "execution_count": 81
  },
  {
   "cell_type": "code",
   "id": "04963a2e-f086-44d4-8adc-9b9ac9cb0d50",
   "metadata": {
    "ExecuteTime": {
     "end_time": "2025-10-23T17:56:46.647239Z",
     "start_time": "2025-10-23T17:56:46.417190Z"
    }
   },
   "source": [
    "# Define diversity functions\n",
    "def shannon(p):\n",
    "    p = p[p > 0]\n",
    "    return -(p * np.log(p)).sum()\n",
    "\n",
    "def simpson(p):\n",
    "    return 1 - (p**2).sum()\n",
    "\n",
    "# Compute metrics for each sample\n",
    "alpha = pd.DataFrame(index=ab_rel.index)\n",
    "alpha['richness'] = (ab_rel > 0).sum(axis=1)\n",
    "alpha['shannon'] = ab_rel.apply(shannon, axis=1)\n",
    "alpha['simpson'] = ab_rel.apply(simpson, axis=1)\n",
    "\n",
    "# Merge key metadata (for plotting & stratification)\n",
    "alpha = alpha.join(meta[['health_status', 'antibiotic_use', 'treatment']])\n",
    "alpha.head()"
   ],
   "outputs": [
    {
     "data": {
      "text/plain": [
       "              richness   shannon   simpson health_status antibiotic_use  \\\n",
       "M0x10MCx1134        82  3.104297  0.924690       Disease             no   \n",
       "M0x10MCx1135        85  2.020964  0.649169       Disease             no   \n",
       "M0x10MCx1138        69  2.552936  0.844483       Disease            yes   \n",
       "M0x10MCx1140        93  3.296407  0.944447       Healthy        unknown   \n",
       "M0x10MCx1143        41  2.224257  0.835120       Disease            yes   \n",
       "\n",
       "                                                     treatment  \n",
       "M0x10MCx1134                     antihta;thiazidique;at2_inhib  \n",
       "M0x10MCx1135               antidiab;su;metformin;dppiv;insulin  \n",
       "M0x10MCx1138                             antidiab;su;metformin  \n",
       "M0x10MCx1140             antihta;thiazidique;at2_inhib;ca2_cbl  \n",
       "M0x10MCx1143  antihta;antidiab;thiazidique;at2_inhib;metformin  "
      ],
      "text/html": [
       "<div>\n",
       "<style scoped>\n",
       "    .dataframe tbody tr th:only-of-type {\n",
       "        vertical-align: middle;\n",
       "    }\n",
       "\n",
       "    .dataframe tbody tr th {\n",
       "        vertical-align: top;\n",
       "    }\n",
       "\n",
       "    .dataframe thead th {\n",
       "        text-align: right;\n",
       "    }\n",
       "</style>\n",
       "<table border=\"1\" class=\"dataframe\">\n",
       "  <thead>\n",
       "    <tr style=\"text-align: right;\">\n",
       "      <th></th>\n",
       "      <th>richness</th>\n",
       "      <th>shannon</th>\n",
       "      <th>simpson</th>\n",
       "      <th>health_status</th>\n",
       "      <th>antibiotic_use</th>\n",
       "      <th>treatment</th>\n",
       "    </tr>\n",
       "  </thead>\n",
       "  <tbody>\n",
       "    <tr>\n",
       "      <th>M0x10MCx1134</th>\n",
       "      <td>82</td>\n",
       "      <td>3.104297</td>\n",
       "      <td>0.924690</td>\n",
       "      <td>Disease</td>\n",
       "      <td>no</td>\n",
       "      <td>antihta;thiazidique;at2_inhib</td>\n",
       "    </tr>\n",
       "    <tr>\n",
       "      <th>M0x10MCx1135</th>\n",
       "      <td>85</td>\n",
       "      <td>2.020964</td>\n",
       "      <td>0.649169</td>\n",
       "      <td>Disease</td>\n",
       "      <td>no</td>\n",
       "      <td>antidiab;su;metformin;dppiv;insulin</td>\n",
       "    </tr>\n",
       "    <tr>\n",
       "      <th>M0x10MCx1138</th>\n",
       "      <td>69</td>\n",
       "      <td>2.552936</td>\n",
       "      <td>0.844483</td>\n",
       "      <td>Disease</td>\n",
       "      <td>yes</td>\n",
       "      <td>antidiab;su;metformin</td>\n",
       "    </tr>\n",
       "    <tr>\n",
       "      <th>M0x10MCx1140</th>\n",
       "      <td>93</td>\n",
       "      <td>3.296407</td>\n",
       "      <td>0.944447</td>\n",
       "      <td>Healthy</td>\n",
       "      <td>unknown</td>\n",
       "      <td>antihta;thiazidique;at2_inhib;ca2_cbl</td>\n",
       "    </tr>\n",
       "    <tr>\n",
       "      <th>M0x10MCx1143</th>\n",
       "      <td>41</td>\n",
       "      <td>2.224257</td>\n",
       "      <td>0.835120</td>\n",
       "      <td>Disease</td>\n",
       "      <td>yes</td>\n",
       "      <td>antihta;antidiab;thiazidique;at2_inhib;metformin</td>\n",
       "    </tr>\n",
       "  </tbody>\n",
       "</table>\n",
       "</div>"
      ]
     },
     "execution_count": 82,
     "metadata": {},
     "output_type": "execute_result"
    }
   ],
   "execution_count": 82
  },
  {
   "cell_type": "code",
   "id": "7b73ce52-68c9-48f6-b42a-3e03717b233e",
   "metadata": {
    "ExecuteTime": {
     "end_time": "2025-10-23T17:56:46.755438Z",
     "start_time": "2025-10-23T17:56:46.740763Z"
    }
   },
   "source": [
    "# Visualize Shannon diversity by health status\n",
    "plt.figure(figsize=(6,5))\n",
    "sns.violinplot(x='health_status', y='shannon', data=alpha, inner=None, palette='Set2')\n",
    "sns.boxplot(x='health_status', y='shannon', data=alpha, width=0.15, showcaps=True, boxprops={'zorder':2}, fliersize=2)\n",
    "plt.title(\"Shannon Diversity: Healthy vs Disease\")\n",
    "plt.ylabel(\"Shannon Index\")\n",
    "plt.xlabel(\"\")\n",
    "plt.tight_layout()\n",
    "plt.savefig(os.path.join(FIGS, \"shannon_by_health_vs_disease.png\"), dpi=300, bbox_inches='tight')\n",
    "plt.show()\n"
   ],
   "outputs": [
    {
     "ename": "AttributeError",
     "evalue": "module 'seaborn' has no attribute 'violinplot'",
     "output_type": "error",
     "traceback": [
      "\u001B[0;31m---------------------------------------------------------------------------\u001B[0m",
      "\u001B[0;31mAttributeError\u001B[0m                            Traceback (most recent call last)",
      "Cell \u001B[0;32mIn[83], line 3\u001B[0m\n\u001B[1;32m      1\u001B[0m \u001B[38;5;66;03m# Visualize Shannon diversity by health status\u001B[39;00m\n\u001B[1;32m      2\u001B[0m plt\u001B[38;5;241m.\u001B[39mfigure(figsize\u001B[38;5;241m=\u001B[39m(\u001B[38;5;241m6\u001B[39m,\u001B[38;5;241m5\u001B[39m))\n\u001B[0;32m----> 3\u001B[0m sns\u001B[38;5;241m.\u001B[39mviolinplot(x\u001B[38;5;241m=\u001B[39m\u001B[38;5;124m'\u001B[39m\u001B[38;5;124mhealth_status\u001B[39m\u001B[38;5;124m'\u001B[39m, y\u001B[38;5;241m=\u001B[39m\u001B[38;5;124m'\u001B[39m\u001B[38;5;124mshannon\u001B[39m\u001B[38;5;124m'\u001B[39m, data\u001B[38;5;241m=\u001B[39malpha, inner\u001B[38;5;241m=\u001B[39m\u001B[38;5;28;01mNone\u001B[39;00m, palette\u001B[38;5;241m=\u001B[39m\u001B[38;5;124m'\u001B[39m\u001B[38;5;124mSet2\u001B[39m\u001B[38;5;124m'\u001B[39m)\n\u001B[1;32m      4\u001B[0m sns\u001B[38;5;241m.\u001B[39mboxplot(x\u001B[38;5;241m=\u001B[39m\u001B[38;5;124m'\u001B[39m\u001B[38;5;124mhealth_status\u001B[39m\u001B[38;5;124m'\u001B[39m, y\u001B[38;5;241m=\u001B[39m\u001B[38;5;124m'\u001B[39m\u001B[38;5;124mshannon\u001B[39m\u001B[38;5;124m'\u001B[39m, data\u001B[38;5;241m=\u001B[39malpha, width\u001B[38;5;241m=\u001B[39m\u001B[38;5;241m0.15\u001B[39m, showcaps\u001B[38;5;241m=\u001B[39m\u001B[38;5;28;01mTrue\u001B[39;00m, boxprops\u001B[38;5;241m=\u001B[39m{\u001B[38;5;124m'\u001B[39m\u001B[38;5;124mzorder\u001B[39m\u001B[38;5;124m'\u001B[39m:\u001B[38;5;241m2\u001B[39m}, fliersize\u001B[38;5;241m=\u001B[39m\u001B[38;5;241m2\u001B[39m)\n\u001B[1;32m      5\u001B[0m plt\u001B[38;5;241m.\u001B[39mtitle(\u001B[38;5;124m\"\u001B[39m\u001B[38;5;124mShannon Diversity: Healthy vs Disease\u001B[39m\u001B[38;5;124m\"\u001B[39m)\n",
      "\u001B[0;31mAttributeError\u001B[0m: module 'seaborn' has no attribute 'violinplot'"
     ]
    },
    {
     "data": {
      "text/plain": [
       "<Figure size 600x500 with 0 Axes>"
      ]
     },
     "metadata": {},
     "output_type": "display_data"
    }
   ],
   "execution_count": 83
  },
  {
   "cell_type": "code",
   "execution_count": 33,
   "id": "e486ab80-9afa-427e-b9a7-5da43e8d3fac",
   "metadata": {},
   "outputs": [
    {
     "name": "stdout",
     "output_type": "stream",
     "text": [
      "Mann–Whitney test (Shannon, Healthy vs Disease): p = 5.175e-01, U = 388656.0\n",
      "Healthy mean = 2.799, Disease mean = 2.796\n"
     ]
    }
   ],
   "source": [
    "# Mann–Whitney U test for diversity difference\n",
    "healthy = alpha.loc[alpha['health_status'] == 'Healthy', 'shannon']\n",
    "disease = alpha.loc[alpha['health_status'] == 'Disease', 'shannon']\n",
    "\n",
    "u_stat, p_val = mannwhitneyu(healthy, disease, alternative='two-sided')\n",
    "print(f\"Mann–Whitney test (Shannon, Healthy vs Disease): p = {p_val:.3e}, U = {u_stat}\")\n",
    "print(f\"Healthy mean = {healthy.mean():.3f}, Disease mean = {disease.mean():.3f}\")\n"
   ]
  },
  {
   "cell_type": "code",
   "execution_count": 43,
   "id": "420d1e7f-0942-46f1-89f7-7e855cb45095",
   "metadata": {},
   "outputs": [
    {
     "data": {
      "image/png": "[encoded data removed]",
      "text/plain": [
       "<Figure size 800x500 with 1 Axes>"
      ]
     },
     "metadata": {},
     "output_type": "display_data"
    }
   ],
   "source": [
    "# Shannon diversity by health status & antibiotic use\n",
    "plt.figure(figsize=(8,5))\n",
    "sns.boxplot(x='health_status', y='shannon', hue='antibiotic_use', data=alpha, palette='Set1')\n",
    "plt.title(\"Shannon Diversity by Health Status and Antibiotic Use\")\n",
    "plt.tight_layout()\n",
    "plt.savefig(os.path.join(FIGS, \"shannon_by_health_antibiotic.png\"), dpi=300, bbox_inches='tight')\n",
    "plt.show()\n"
   ]
  },
  {
   "cell_type": "code",
   "execution_count": 37,
   "id": "56aa99e3-92db-4ec5-8572-f26bc0f56172",
   "metadata": {},
   "outputs": [
    {
     "name": "stdout",
     "output_type": "stream",
     "text": [
      "Antibiotic=yes: p=4.450e-01, n_Healthy=297, n_Disease=486\n",
      "Antibiotic=no: p=7.373e-02, n_Healthy=319, n_Disease=625\n"
     ]
    }
   ],
   "source": [
    "for abx in ['yes', 'no']:\n",
    "    sub = alpha[alpha['antibiotic_use'] == abx]\n",
    "    if len(sub['health_status'].unique()) == 2:\n",
    "        h = sub.loc[sub['health_status'] == 'Healthy', 'shannon']\n",
    "        d = sub.loc[sub['health_status'] == 'Disease', 'shannon']\n",
    "        u, p = mannwhitneyu(h, d, alternative='two-sided')\n",
    "        print(f\"Antibiotic={abx}: p={p:.3e}, n_Healthy={len(h)}, n_Disease={len(d)}\")\n"
   ]
  },
  {
   "cell_type": "code",
   "execution_count": 39,
   "id": "4dfec3e8-207b-49b4-905c-4dd3ccecaa8a",
   "metadata": {},
   "outputs": [
    {
     "name": "stdout",
     "output_type": "stream",
     "text": [
      "Antibiotic (yes vs no): p=4.366e-04, mean yes=2.775, mean no=2.825\n"
     ]
    }
   ],
   "source": [
    "# Does antibiotic use itself reduce Shannon diversity?\n",
    "yes_abx = alpha.loc[alpha['antibiotic_use'] == 'yes', 'shannon']\n",
    "no_abx = alpha.loc[alpha['antibiotic_use'] == 'no', 'shannon']\n",
    "\n",
    "u_abx, p_abx = mannwhitneyu(yes_abx, no_abx, alternative='two-sided')\n",
    "print(f\"Antibiotic (yes vs no): p={p_abx:.3e}, mean yes={yes_abx.mean():.3f}, mean no={no_abx.mean():.3f}\")\n"
   ]
  },
  {
   "cell_type": "code",
   "execution_count": 41,
   "id": "fe40a8e7-0a51-4b57-b408-77679c0b64a9",
   "metadata": {},
   "outputs": [],
   "source": [
    "alpha.to_csv(os.path.join(TABLES, \"alpha_diversity.csv\"))"
   ]
  },
  {
   "cell_type": "code",
   "execution_count": null,
   "id": "d1d782fa-e986-4abd-a620-7bb6fec22806",
   "metadata": {},
   "outputs": [],
   "source": []
  }
 ],
 "metadata": {
  "kernelspec": {
   "display_name": "Python 3 (ipykernel)",
   "language": "python",
   "name": "python3"
  },
  "language_info": {
   "codemirror_mode": {
    "name": "ipython",
    "version": 3
   },
   "file_extension": ".py",
   "mimetype": "text/x-python",
   "name": "python",
   "nbconvert_exporter": "python",
   "pygments_lexer": "ipython3",
   "version": "3.12.4"
  }
 },
 "nbformat": 4,
 "nbformat_minor": 5
}
